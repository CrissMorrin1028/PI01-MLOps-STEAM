{
 "cells": [
  {
   "cell_type": "code",
   "execution_count": 110,
   "metadata": {},
   "outputs": [],
   "source": [
    "# Abrir el archivo parquet en un dataframe\n",
    "import pandas as pd\n",
    "import numpy as np "
   ]
  },
  {
   "cell_type": "code",
   "execution_count": 111,
   "metadata": {},
   "outputs": [],
   "source": [
    "df_final = pd.read_parquet('Dict\\df_final.parquet')"
   ]
  },
  {
   "cell_type": "code",
   "execution_count": 112,
   "metadata": {},
   "outputs": [
    {
     "data": {
      "text/plain": [
       "(5100274, 11)"
      ]
     },
     "execution_count": 112,
     "metadata": {},
     "output_type": "execute_result"
    }
   ],
   "source": [
    "df_final.shape"
   ]
  },
  {
   "cell_type": "markdown",
   "metadata": {},
   "source": [
    "#### Funcion **``1``**"
   ]
  },
  {
   "cell_type": "code",
   "execution_count": 113,
   "metadata": {},
   "outputs": [],
   "source": [
    "def developer(desarrollador):\n",
    "    \"\"\"\n",
    "    Esta función toma como entrada el nombre de un desarrollador y devuelve un diccionario que contiene información sobre los juegos lanzados por ese desarrollador. \n",
    "    La información incluye el número total de juegos lanzados por año, el número de juegos gratuitos lanzados por año y el porcentaje de juegos gratuitos lanzados por año.\n",
    "    \n",
    "    Parámetros:\n",
    "    desarrollador (str): El nombre del desarrollador.\n",
    "    \n",
    "    Devuelve:\n",
    "    dict_developer (dict): Un diccionario que contiene información sobre los juegos lanzados por el desarrollador.\n",
    "\n",
    "    Ejemplo:\n",
    "    >>> developer(\"Nombre del Desarrollador\")\n",
    "    [{'Año': 2010, 'Cantidad de artículos': 5, 'Contenidos Gratis': 2, 'Porcentaje Gratis': '40%'},\n",
    "     {'Año': 2011, 'Cantidad de artículos': 10, 'Contenidos Gratis': 5, 'Porcentaje Gratis': '50%'},\n",
    "     {'Año': 'Desconocido', 'Cantidad de artículos': 1, 'Contenidos Gratis': 0, 'Porcentaje Gratis': '0%'}]\n",
    "\n",
    "    En caso de que el desarrollador no exista, devuelve un diccionario con un mensaje de error.\n",
    "\n",
    "    Ejemplo:\n",
    "    >>> developer(\"Desarrollador Inexistente\")\n",
    "    {\n",
    "        \"detail\": [\n",
    "            {\n",
    "                \"loc\": [\"string\", 0],\n",
    "                \"msg\": \"El desarrollador no existe\",\n",
    "                \"type\": \"value_error\"\n",
    "            }\n",
    "        ]\n",
    "    }\n",
    "    \"\"\"\n",
    "    # Filtrar el dataframe por el desarrollador dado\n",
    "    df_dev = df_final[df_final['developer'] == desarrollador]\n",
    "\n",
    "    # Si el dataframe está vacío, lanzar una excepción\n",
    "    if df_dev.empty:\n",
    "        return {\n",
    "            \"detail\": [\n",
    "                {\n",
    "                    \"loc\": [\"string\", 0],\n",
    "                    \"msg\": \"El desarrollador no existe\",\n",
    "                    \"type\": \"value_error\"\n",
    "                }\n",
    "            ]\n",
    "        }\n",
    "    \n",
    "    # Agrupar por año y contar el número total de juegos únicos y el número de juegos gratuitos únicos\n",
    "    juegos_por_año = df_dev.groupby('release_date')['item_id'].nunique()\n",
    "    juegos_gratis_por_año = df_dev[df_dev['price'] == 0.0].groupby('release_date')['item_id'].nunique()\n",
    "    \n",
    "    # Asegurarse de que juegos_gratis_por_año tenga la misma longitud que juegos_por_año\n",
    "    juegos_gratis_por_año = juegos_gratis_por_año.reindex(juegos_por_año.index, fill_value=0)\n",
    "    \n",
    "    # Calcular el porcentaje de juegos gratis y redondearlo al entero más cercano\n",
    "    porcentaje_gratis = ((juegos_gratis_por_año / juegos_por_año) * 100).round().astype(int)\n",
    "    \n",
    "    # Asignar nombres a las series\n",
    "    juegos_por_año.name = \"Cantidad de artículos\"\n",
    "    juegos_gratis_por_año.name = \"Contenidos Gratis\"\n",
    "    porcentaje_gratis.name = \"Porcentaje Gratis\"\n",
    "    \n",
    "    # Unir las series en un DataFrame\n",
    "    tabla = pd.concat([juegos_por_año, juegos_gratis_por_año, porcentaje_gratis], axis=1).reset_index()\n",
    "    tabla.columns = ['Año', 'Cantidad de artículos', 'Contenidos Gratis', 'Porcentaje Gratis']\n",
    "    \n",
    "    # Reemplazar 0 con 'Desconocido' en la columna 'Año'\n",
    "    tabla['Año'] = tabla['Año'].replace(0, 'Desconocido')\n",
    "    \n",
    "    # Agregar el signo de porcentaje a 'Porcentaje Gratis'\n",
    "    tabla['Porcentaje Gratis'] = tabla['Porcentaje Gratis'].apply(lambda x: f\"{x}%\")\n",
    "    \n",
    "    # Convertir el DataFrame a un diccionario\n",
    "    dict_developer = tabla.to_dict(orient='records')\n",
    "    \n",
    "    return dict_developer"
   ]
  },
  {
   "cell_type": "code",
   "execution_count": 114,
   "metadata": {},
   "outputs": [
    {
     "data": {
      "text/plain": [
       "[{'Año': 2013,\n",
       "  'Cantidad de artículos': 1,\n",
       "  'Contenidos Gratis': 1,\n",
       "  'Porcentaje Gratis': '100%'}]"
      ]
     },
     "execution_count": 114,
     "metadata": {},
     "output_type": "execute_result"
    }
   ],
   "source": [
    "# llamar a la función\n",
    "developer(\"Adam Foster\")"
   ]
  },
  {
   "cell_type": "code",
   "execution_count": 115,
   "metadata": {},
   "outputs": [
    {
     "data": {
      "text/plain": [
       "array(['Valve', 'Gearbox Software', 'Double Fine Productions', ...,\n",
       "       'Adam Foster', 'Team Chivalry', 'Empires'], dtype=object)"
      ]
     },
     "execution_count": 115,
     "metadata": {},
     "output_type": "execute_result"
    }
   ],
   "source": [
    "# mostrar developer unicos\n",
    "df_final['developer'].unique()"
   ]
  },
  {
   "cell_type": "code",
   "execution_count": 134,
   "metadata": {},
   "outputs": [],
   "source": [
    "# buscar desrrolladores con más price igual a 0 y con release_date diferentes y item_id unicos en el dataframe\n",
    "df_dev = df_final[df_final['price'] == 0.0].groupby('developer').agg({'release_date': 'nunique', 'item_id': 'nunique'}).sort_values(by='release_date', ascending=False)\n"
   ]
  },
  {
   "cell_type": "code",
   "execution_count": 137,
   "metadata": {},
   "outputs": [
    {
     "data": {
      "text/plain": [
       "user_id\n",
       "phrostb              7762\n",
       "thugnificent         6700\n",
       "chidvd               6410\n",
       "piepai               6132\n",
       "mayshowganmore       5027\n",
       "                     ... \n",
       "76561198108543030       1\n",
       "76561198108566203       1\n",
       "76561198108779605       1\n",
       "76561198108800267       1\n",
       "76561198100676286       1\n",
       "Name: item_id, Length: 73753, dtype: int64"
      ]
     },
     "execution_count": 137,
     "metadata": {},
     "output_type": "execute_result"
    }
   ],
   "source": [
    "# user_id unicos en el dataframe con más item_id unicos\n",
    "df_final.groupby('user_id')['item_id'].nunique().sort_values(ascending=False)"
   ]
  },
  {
   "cell_type": "markdown",
   "metadata": {},
   "source": [
    "#### Funcion **``2``**"
   ]
  },
  {
   "cell_type": "code",
   "execution_count": 117,
   "metadata": {},
   "outputs": [],
   "source": [
    "def user_data(user_id):\n",
    "    \"\"\"\n",
    "    Esta función devuelve la cantidad de dinero gastado por el usuario, el porcentaje de recomendación\n",
    "    basado en las revisiones (recommend) y la cantidad de artículos.\n",
    "\n",
    "    Args:\n",
    "    - User_id (str): El ID del usuario para el cual se desea obtener la información.\n",
    "\n",
    "    Returns:\n",
    "    - dict: Un diccionario que contiene la información del usuario, incluyendo:\n",
    "        - \"Usuario\": El ID del usuario.\n",
    "        - \"Dinero gastado\": La cantidad de dinero gastado por el usuario en USD.\n",
    "        - \"% de recomendación\": El porcentaje de recomendación basado en las revisiones.\n",
    "        - \"cantidad de artículos\": La cantidad de artículos únicos que el usuario ha revisado.\n",
    "\n",
    "    Ejemplo:\n",
    "    >>> user_data(\"ID_Usuario\")\n",
    "    {\n",
    "        'Usuario': 'ID_Usuario',\n",
    "        'Dinero gastado': '35.0 USD',\n",
    "        '% de recomendación': '60%',\n",
    "        'cantidad de artículos': 5\n",
    "    }\n",
    "\n",
    "    En caso de que el usuario no exista, devuelve un diccionario con un mensaje de error.\n",
    "\n",
    "    Ejemplo:\n",
    "    >>> user_data(\"Usuario_Inexistente\")\n",
    "    {\n",
    "        \"detail\": [\n",
    "            {\n",
    "                \"loc\": [\"string\", 0],\n",
    "                \"msg\": \"El usuario Usuario_Inexistente no existe.\",\n",
    "                \"type\": \"value_error\"\n",
    "            }\n",
    "        ]\n",
    "    }\n",
    "    \"\"\"\n",
    "    # Filtrar el dataframe 'df_final' por el 'user_id' dado\n",
    "    df_filtered = df_final[df_final['user_id'] == user_id]\n",
    "\n",
    "    # Verificar si el dataframe filtrado está vacío\n",
    "    if df_filtered.empty:\n",
    "        return {\n",
    "            \"detail\": [\n",
    "                {\n",
    "                    \"loc\": [\"string\", 0],\n",
    "                    \"msg\": f\"El usuario {user_id} no existe.\",\n",
    "                    \"type\": \"value_error\"\n",
    "                }\n",
    "            ]\n",
    "        }\n",
    "\n",
    "    # Calcular la cantidad de dinero gastado y redondearlo a dos decimales\n",
    "    total_spent = round(df_filtered['price'].sum(), 2)\n",
    "\n",
    "    # Calcular el porcentaje de recomendación\n",
    "    total_reviews = df_filtered['recommend'].count()\n",
    "    recommended_reviews = df_filtered[df_filtered['recommend'] == True]['recommend'].count()\n",
    "    recommendation_percentage = round((recommended_reviews / total_reviews) * 100) if total_reviews > 0 else 0\n",
    "\n",
    "    # Calcular la cantidad de items únicos\n",
    "    total_items = df_filtered['item_id'].nunique()\n",
    "\n",
    "    # Crear el diccionario de resultados\n",
    "    dict_userdata = {\n",
    "        \"Usuario\": user_id,\n",
    "        \"Dinero gastado\": f\"{total_spent} USD\",\n",
    "        \"% de recomendación\": f\"{recommendation_percentage}%\",\n",
    "        \"cantidad de artículos\": total_items\n",
    "    }\n",
    "\n",
    "    return dict_userdata"
   ]
  },
  {
   "cell_type": "code",
   "execution_count": 146,
   "metadata": {},
   "outputs": [
    {
     "data": {
      "text/plain": [
       "{'Usuario': '76561198096849086',\n",
       " 'Dinero gastado': '716.42 USD',\n",
       " '% de recomendación': '58%',\n",
       " 'cantidad de artículos': 71}"
      ]
     },
     "execution_count": 146,
     "metadata": {},
     "output_type": "execute_result"
    }
   ],
   "source": [
    "# llamar a la función\n",
    "user_data(\"76561198096849086\")"
   ]
  },
  {
   "cell_type": "code",
   "execution_count": 138,
   "metadata": {},
   "outputs": [
    {
     "data": {
      "text/plain": [
       "array(['76561197970982479', 'js41637', 'evcentric', ...,\n",
       "       'Fuckfhaisjnsnsjakaka', 'KinkyyyCSGO', 'LydiaMorley'], dtype=object)"
      ]
     },
     "execution_count": 138,
     "metadata": {},
     "output_type": "execute_result"
    }
   ],
   "source": [
    "# mostrar user_id unicos\n",
    "df_final['user_id'].unique()"
   ]
  },
  {
   "cell_type": "markdown",
   "metadata": {},
   "source": [
    "#### Funcion **``3``**"
   ]
  },
  {
   "cell_type": "code",
   "execution_count": 119,
   "metadata": {},
   "outputs": [],
   "source": [
    "def UserForGenre(genero: str):\n",
    "    # Filtrar el DataFrame por el género dado\n",
    "    df_genre = df_final[df_final['genres'].apply(lambda x: genero in x)]\n",
    "\n",
    "    # Si el DataFrame está vacío, lanzar una excepción\n",
    "    if df_genre.empty:\n",
    "        return {\"detail\": [{\"loc\": [\"string\", 0], \"msg\": \"El género no existe\", \"type\": \"value_error\"}]}\n",
    "\n",
    "    # Obtener el usuario que acumula más horas jugadas para el género dado\n",
    "    user_most_played_id = df_genre.groupby('user_id')['playtime_forever'].sum().idxmax()\n",
    "\n",
    "    # Filtrar el DataFrame por el usuario con más horas jugadas para el género dado\n",
    "    df_user_genre = df_genre[df_genre['user_id'] == user_most_played_id]\n",
    "\n",
    "    # Obtener la acumulación de horas jugadas por año de lanzamiento\n",
    "    hours_per_year = get_hours_per_year(df_user_genre)\n",
    "\n",
    "    # Devolver los resultados en el formato especificado\n",
    "    return {\"Usuario con más horas jugadas para el género {}\".format(genero): user_most_played_id, \"Horas jugadas\": hours_per_year}\n",
    "\n",
    "def get_hours_per_year(df_genre):\n",
    "    # Agrupar por año de lanzamiento y sumar las horas jugadas\n",
    "    hours_per_year = df_genre.groupby('release_date')['playtime_forever'].sum().astype(int).reset_index()\n",
    "    hours_per_year.columns = ['Año', 'Horas']\n",
    "\n",
    "    # Cambiar el valor del año a 'desconocido' cuando es igual a 0\n",
    "    hours_per_year['Año'] = hours_per_year['Año'].apply(lambda x: 'Desconocido' if x == 0 else x)\n",
    "\n",
    "    # Crear la lista de resultados\n",
    "    hours_per_year = hours_per_year.to_dict('records')\n",
    "\n",
    "    return hours_per_year"
   ]
  },
  {
   "cell_type": "code",
   "execution_count": null,
   "metadata": {},
   "outputs": [],
   "source": [
    "# prompt: llamar a la funcion UserForGenre\n",
    "UserForGenre('Design &amp; Illustration')"
   ]
  },
  {
   "cell_type": "code",
   "execution_count": 139,
   "metadata": {},
   "outputs": [
    {
     "data": {
      "text/plain": [
       "array([\"['Action']\", \"['Strategy']\", \"['Desconocido']\", ...,\n",
       "       \"['Casual', 'Simulation', 'Psychological Horror', 'Horror', 'VR']\",\n",
       "       \"['Free to Play', 'MOBA', 'Strategy', 'Multiplayer', 'Team-Based', 'Action', 'e-sports', 'Online Co-Op', 'Competitive', 'PvP', 'RTS', 'Difficult', 'RPG', 'Fantasy', 'Tower Defense', 'Co-op', 'Character Customization', 'Replay Value', 'Action RPG', 'Simulation']\",\n",
       "       \"['Action', 'Adventure', 'Massively Multiplayer', 'RPG', 'Simulation', 'Strategy']\"],\n",
       "      dtype=object)"
      ]
     },
     "execution_count": 139,
     "metadata": {},
     "output_type": "execute_result"
    }
   ],
   "source": [
    "# generos unicos\n",
    "df_final['genres'].unique()"
   ]
  },
  {
   "cell_type": "markdown",
   "metadata": {},
   "source": [
    "#### Funcion **``4``**"
   ]
  },
  {
   "cell_type": "code",
   "execution_count": 121,
   "metadata": {},
   "outputs": [],
   "source": [
    "# FUNCIÓN 4 - DESARROLLADOR CON MÁS JUEGOS RECOMENDADOS Y CON COMENTARIOS POSITIVOS\n",
    "def best_developer_year(year):\n",
    "    \"\"\"\n",
    "    Esta función devuelve el top 3 de desarrolladores con juegos MÁS recomendados por usuarios para el año dado.\n",
    "    Se consideran solo los juegos con reviews donde 'recommend' es True y 'sentiment_analysis' es positivo (2).\n",
    "\n",
    "    Args:\n",
    "    - año (int): El año para el cual se desea obtener el top de desarrolladores.\n",
    "\n",
    "    Returns:\n",
    "    - list: Una lista de diccionarios que contiene el top 3 de desarrolladores con juegos MÁS recomendados por usuarios\n",
    "      para el año dado. Cada diccionario en la lista tiene el formato {\"Puesto X\": \"Nombre del desarrollador\"}.\n",
    "\n",
    "    Ejemplo:\n",
    "    >>> best_developer_year(2023)\n",
    "    [{'Puesto 1': 'Desarrollador A'}, {'Puesto 2': 'Desarrollador B'}, {'Puesto 3': 'Desarrollador C'}]\n",
    "\n",
    "    En caso de que el año no exista, devuelve un diccionario con un mensaje de error.\n",
    "\n",
    "    Ejemplo:\n",
    "    >>> best_developer_year(2020)\n",
    "    {\n",
    "        \"detail\": [\n",
    "            {\n",
    "                \"loc\": [\"string\", 0],\n",
    "                \"msg\": \"El año no existe\",\n",
    "                \"type\": \"value_error\"\n",
    "            }\n",
    "        ]\n",
    "    }\n",
    "    \"\"\"\n",
    "    # Filtrar el dataframe 'df_final' por release_date, recomendaciones y comentarios positivos\n",
    "    df_filtered = df_final[(df_final['release_date'] == year) & (df_final['recommend'] == True) & (df_final['sentiment_analysis'] == 2)]\n",
    "\n",
    "    # cuando el año no existe, lanzar una excepcion\n",
    "    if year not in df_final['release_date'].unique():\n",
    "        return {\n",
    "            \"detail\": [\n",
    "                {\n",
    "                    \"loc\": [\"string\", 0],\n",
    "                    \"msg\": \"El año no existe\",\n",
    "                    \"type\": \"value_error\"\n",
    "                }\n",
    "            ]\n",
    "        }\n",
    "\n",
    "    # Agrupar por desarrollador y contar las reseñas\n",
    "    developer_counts = df_filtered['developer'].value_counts()\n",
    "\n",
    "    # Ordenar los resultados y seleccionar los tres primeros\n",
    "    top_developers = developer_counts.nlargest(3)\n",
    "\n",
    "    # Crear la lista de resultados\n",
    "    list_best_developer = []\n",
    "    for i, (developer, count) in enumerate(top_developers.items(), start=1):\n",
    "        list_best_developer.append({f\"Puesto {i}\": developer})\n",
    "\n",
    "    return list_best_developer"
   ]
  },
  {
   "cell_type": "code",
   "execution_count": 122,
   "metadata": {},
   "outputs": [
    {
     "data": {
      "text/plain": [
       "array([2000, 1999, 2003, 2001, 1998, 2010, 2004, 2005,    0, 2006, 2007,\n",
       "       2016, 2008, 1997, 2009, 2002, 2011, 2014, 2012, 2013, 2015, 1994,\n",
       "       1995, 1996, 1993, 1990, 2017, 1991, 1992, 1988, 1983, 1984, 1987,\n",
       "       1989, 2018], dtype=int64)"
      ]
     },
     "execution_count": 122,
     "metadata": {},
     "output_type": "execute_result"
    }
   ],
   "source": [
    "# mostrar release_date unicos\n",
    "df_final['release_date'].unique()"
   ]
  },
  {
   "cell_type": "code",
   "execution_count": 123,
   "metadata": {},
   "outputs": [
    {
     "data": {
      "text/plain": [
       "[{'Puesto 1': 'Smartly Dressed Games'},\n",
       " {'Puesto 2': 'Freejam'},\n",
       " {'Puesto 3': 'Studio Wildcard,Instinct Games,Efecto Studios,Virtual Basement LLC'}]"
      ]
     },
     "execution_count": 123,
     "metadata": {},
     "output_type": "execute_result"
    }
   ],
   "source": [
    "# llamar a la función\n",
    "best_developer_year(2017)"
   ]
  },
  {
   "cell_type": "markdown",
   "metadata": {},
   "source": [
    "#### Funcion **``5``**"
   ]
  },
  {
   "cell_type": "code",
   "execution_count": 124,
   "metadata": {},
   "outputs": [],
   "source": [
    "\n",
    "# FUNCIÓN 5 - ANÁLISIS DE SENTIMIENTO DE RESEÑAS PARA UN DESARROLLADOR\n",
    "def desarrollador_reviews_analysis(desarrolladora):\n",
    "    \"\"\"\n",
    "    Según el desarrollador, devuelve un diccionario con el nombre del desarrollador como llave\n",
    "    y una lista con la cantidad total de registros de reseñas de usuarios que se encuentren\n",
    "    categorizados con un análisis de sentimiento como valor positivo o negativo.\n",
    "\n",
    "    Args:\n",
    "    - desarrolladora (str): El nombre del desarrollador para el cual se desea realizar el análisis.\n",
    "\n",
    "    Returns:\n",
    "    - dict: Un diccionario que contiene el nombre del desarrollador como llave y una lista con la cantidad\n",
    "      total de registros de reseñas de usuarios que se encuentren categorizados con un análisis de sentimiento\n",
    "      como valor positivo o negativo. Ejemplo de retorno:\n",
    "      {'Valve': [{'Negativo': 182, 'Positivo': 278}]}\n",
    "\n",
    "    En caso de que no haya datos para el desarrollador especificado, devuelve un diccionario con un mensaje de error.\n",
    "\n",
    "    Ejemplo:\n",
    "    >>> desarrollador_reviews_analysis(\"Valve\")\n",
    "    {'Valve': [{'Negativo': 182, 'Positivo': 278}]}\n",
    "    \"\"\"\n",
    "    # Filtrar el dataframe por el desarrollador\n",
    "    df_filtered = df_final[df_final['developer'] == desarrolladora]\n",
    "\n",
    "    # Verificar si el DataFrame filtrado está vacío y dar una excepción\n",
    "    if df_filtered.empty:\n",
    "        return {\n",
    "            \"detail\": [\n",
    "                {\n",
    "                    \"loc\": [\"string\", 0],\n",
    "                    \"msg\": \"No hay datos para el desarrollador {}\".format(desarrolladora),\n",
    "                    \"type\": \"value_error\"\n",
    "                }\n",
    "            ]\n",
    "        }\n",
    "\n",
    "    # Contar el número de reseñas con análisis de sentimiento positivo y negativo\n",
    "    sentiment_counts = df_filtered['sentiment_analysis'].value_counts()\n",
    "\n",
    "    # Crear el diccionario de resultados\n",
    "    list_reviews_analysis = {desarrolladora: [{'Negativo': int(sentiment_counts.get(0, 0)), 'Positivo': int(sentiment_counts.get(2, 0))}]}\n",
    "\n",
    "    # Asegurarse de que el resultado es un diccionario\n",
    "    if not isinstance(list_reviews_analysis, dict):\n",
    "        list_reviews_analysis = list_reviews_analysis.to_dict()\n",
    "\n",
    "    return list_reviews_analysis"
   ]
  },
  {
   "cell_type": "code",
   "execution_count": 125,
   "metadata": {},
   "outputs": [
    {
     "data": {
      "text/plain": [
       "{'Valve': [{'Negativo': 790, 'Positivo': 206562}]}"
      ]
     },
     "execution_count": 125,
     "metadata": {},
     "output_type": "execute_result"
    }
   ],
   "source": [
    "# llamar a la función\n",
    "desarrollador_reviews_analysis(\"Valve\")"
   ]
  },
  {
   "cell_type": "code",
   "execution_count": 126,
   "metadata": {},
   "outputs": [
    {
     "data": {
      "text/plain": [
       "array(['Valve', 'Gearbox Software', 'Double Fine Productions', ...,\n",
       "       'Adam Foster', 'Team Chivalry', 'Empires'], dtype=object)"
      ]
     },
     "execution_count": 126,
     "metadata": {},
     "output_type": "execute_result"
    }
   ],
   "source": [
    "# mostrar developer unicos\n",
    "df_final['developer'].unique()"
   ]
  },
  {
   "cell_type": "code",
   "execution_count": 127,
   "metadata": {},
   "outputs": [
    {
     "data": {
      "text/plain": [
       "array([2, 1, 0], dtype=int64)"
      ]
     },
     "execution_count": 127,
     "metadata": {},
     "output_type": "execute_result"
    }
   ],
   "source": [
    "# valores unicos de sentiment_analysis\n",
    "df_final['sentiment_analysis'].unique()"
   ]
  },
  {
   "cell_type": "code",
   "execution_count": 128,
   "metadata": {},
   "outputs": [
    {
     "data": {
      "text/html": [
       "<div>\n",
       "<style scoped>\n",
       "    .dataframe tbody tr th:only-of-type {\n",
       "        vertical-align: middle;\n",
       "    }\n",
       "\n",
       "    .dataframe tbody tr th {\n",
       "        vertical-align: top;\n",
       "    }\n",
       "\n",
       "    .dataframe thead th {\n",
       "        text-align: right;\n",
       "    }\n",
       "</style>\n",
       "<table border=\"1\" class=\"dataframe\">\n",
       "  <thead>\n",
       "    <tr style=\"text-align: right;\">\n",
       "      <th></th>\n",
       "      <th>user_id</th>\n",
       "      <th>item_id</th>\n",
       "      <th>item_name</th>\n",
       "      <th>playtime_forever</th>\n",
       "      <th>recommend</th>\n",
       "      <th>year</th>\n",
       "      <th>sentiment_analysis</th>\n",
       "      <th>genres</th>\n",
       "      <th>release_date</th>\n",
       "      <th>price</th>\n",
       "      <th>developer</th>\n",
       "    </tr>\n",
       "  </thead>\n",
       "  <tbody>\n",
       "    <tr>\n",
       "      <th>4</th>\n",
       "      <td>76561197970982479</td>\n",
       "      <td>50</td>\n",
       "      <td>Half-Life: Opposing Force</td>\n",
       "      <td>0</td>\n",
       "      <td>False</td>\n",
       "      <td>0</td>\n",
       "      <td>1</td>\n",
       "      <td>['Action']</td>\n",
       "      <td>1999</td>\n",
       "      <td>4.99</td>\n",
       "      <td>Gearbox Software</td>\n",
       "    </tr>\n",
       "    <tr>\n",
       "      <th>7</th>\n",
       "      <td>76561197970982479</td>\n",
       "      <td>130</td>\n",
       "      <td>Half-Life: Blue Shift</td>\n",
       "      <td>0</td>\n",
       "      <td>False</td>\n",
       "      <td>0</td>\n",
       "      <td>1</td>\n",
       "      <td>['Action']</td>\n",
       "      <td>2001</td>\n",
       "      <td>4.99</td>\n",
       "      <td>Gearbox Software</td>\n",
       "    </tr>\n",
       "    <tr>\n",
       "      <th>65</th>\n",
       "      <td>76561197970982479</td>\n",
       "      <td>8980</td>\n",
       "      <td>Borderlands</td>\n",
       "      <td>3061</td>\n",
       "      <td>True</td>\n",
       "      <td>0</td>\n",
       "      <td>2</td>\n",
       "      <td>['Action', 'RPG']</td>\n",
       "      <td>2009</td>\n",
       "      <td>19.99</td>\n",
       "      <td>Gearbox Software</td>\n",
       "    </tr>\n",
       "    <tr>\n",
       "      <th>289</th>\n",
       "      <td>js41637</td>\n",
       "      <td>50</td>\n",
       "      <td>Half-Life: Opposing Force</td>\n",
       "      <td>0</td>\n",
       "      <td>False</td>\n",
       "      <td>0</td>\n",
       "      <td>1</td>\n",
       "      <td>['Action']</td>\n",
       "      <td>1999</td>\n",
       "      <td>4.99</td>\n",
       "      <td>Gearbox Software</td>\n",
       "    </tr>\n",
       "    <tr>\n",
       "      <th>291</th>\n",
       "      <td>js41637</td>\n",
       "      <td>130</td>\n",
       "      <td>Half-Life: Blue Shift</td>\n",
       "      <td>0</td>\n",
       "      <td>False</td>\n",
       "      <td>0</td>\n",
       "      <td>1</td>\n",
       "      <td>['Action']</td>\n",
       "      <td>2001</td>\n",
       "      <td>4.99</td>\n",
       "      <td>Gearbox Software</td>\n",
       "    </tr>\n",
       "    <tr>\n",
       "      <th>...</th>\n",
       "      <td>...</td>\n",
       "      <td>...</td>\n",
       "      <td>...</td>\n",
       "      <td>...</td>\n",
       "      <td>...</td>\n",
       "      <td>...</td>\n",
       "      <td>...</td>\n",
       "      <td>...</td>\n",
       "      <td>...</td>\n",
       "      <td>...</td>\n",
       "      <td>...</td>\n",
       "    </tr>\n",
       "    <tr>\n",
       "      <th>5097166</th>\n",
       "      <td>IRunWithScissors</td>\n",
       "      <td>8980</td>\n",
       "      <td>Borderlands</td>\n",
       "      <td>0</td>\n",
       "      <td>True</td>\n",
       "      <td>2015</td>\n",
       "      <td>2</td>\n",
       "      <td>['Action', 'RPG']</td>\n",
       "      <td>2009</td>\n",
       "      <td>19.99</td>\n",
       "      <td>Gearbox Software</td>\n",
       "    </tr>\n",
       "    <tr>\n",
       "      <th>5097637</th>\n",
       "      <td>Zombie_Assassin</td>\n",
       "      <td>8980</td>\n",
       "      <td>Borderlands</td>\n",
       "      <td>0</td>\n",
       "      <td>True</td>\n",
       "      <td>2015</td>\n",
       "      <td>2</td>\n",
       "      <td>['Action', 'RPG']</td>\n",
       "      <td>2009</td>\n",
       "      <td>19.99</td>\n",
       "      <td>Gearbox Software</td>\n",
       "    </tr>\n",
       "    <tr>\n",
       "      <th>5098152</th>\n",
       "      <td>Dr-Medic</td>\n",
       "      <td>8980</td>\n",
       "      <td>Borderlands</td>\n",
       "      <td>0</td>\n",
       "      <td>True</td>\n",
       "      <td>2014</td>\n",
       "      <td>1</td>\n",
       "      <td>['Action', 'RPG']</td>\n",
       "      <td>2009</td>\n",
       "      <td>19.99</td>\n",
       "      <td>Gearbox Software</td>\n",
       "    </tr>\n",
       "    <tr>\n",
       "      <th>5098870</th>\n",
       "      <td>djhoneybadger</td>\n",
       "      <td>8980</td>\n",
       "      <td>Borderlands</td>\n",
       "      <td>0</td>\n",
       "      <td>True</td>\n",
       "      <td>2013</td>\n",
       "      <td>2</td>\n",
       "      <td>['Action', 'RPG']</td>\n",
       "      <td>2009</td>\n",
       "      <td>19.99</td>\n",
       "      <td>Gearbox Software</td>\n",
       "    </tr>\n",
       "    <tr>\n",
       "      <th>5099027</th>\n",
       "      <td>caionav</td>\n",
       "      <td>8980</td>\n",
       "      <td>Borderlands</td>\n",
       "      <td>0</td>\n",
       "      <td>True</td>\n",
       "      <td>2012</td>\n",
       "      <td>1</td>\n",
       "      <td>['Action', 'RPG']</td>\n",
       "      <td>2009</td>\n",
       "      <td>19.99</td>\n",
       "      <td>Gearbox Software</td>\n",
       "    </tr>\n",
       "  </tbody>\n",
       "</table>\n",
       "<p>25502 rows × 11 columns</p>\n",
       "</div>"
      ],
      "text/plain": [
       "                   user_id  item_id                  item_name  \\\n",
       "4        76561197970982479       50  Half-Life: Opposing Force   \n",
       "7        76561197970982479      130      Half-Life: Blue Shift   \n",
       "65       76561197970982479     8980                Borderlands   \n",
       "289                js41637       50  Half-Life: Opposing Force   \n",
       "291                js41637      130      Half-Life: Blue Shift   \n",
       "...                    ...      ...                        ...   \n",
       "5097166   IRunWithScissors     8980                Borderlands   \n",
       "5097637    Zombie_Assassin     8980                Borderlands   \n",
       "5098152           Dr-Medic     8980                Borderlands   \n",
       "5098870      djhoneybadger     8980                Borderlands   \n",
       "5099027            caionav     8980                Borderlands   \n",
       "\n",
       "         playtime_forever  recommend  year  sentiment_analysis  \\\n",
       "4                       0      False     0                   1   \n",
       "7                       0      False     0                   1   \n",
       "65                   3061       True     0                   2   \n",
       "289                     0      False     0                   1   \n",
       "291                     0      False     0                   1   \n",
       "...                   ...        ...   ...                 ...   \n",
       "5097166                 0       True  2015                   2   \n",
       "5097637                 0       True  2015                   2   \n",
       "5098152                 0       True  2014                   1   \n",
       "5098870                 0       True  2013                   2   \n",
       "5099027                 0       True  2012                   1   \n",
       "\n",
       "                    genres  release_date  price         developer  \n",
       "4               ['Action']          1999   4.99  Gearbox Software  \n",
       "7               ['Action']          2001   4.99  Gearbox Software  \n",
       "65       ['Action', 'RPG']          2009  19.99  Gearbox Software  \n",
       "289             ['Action']          1999   4.99  Gearbox Software  \n",
       "291             ['Action']          2001   4.99  Gearbox Software  \n",
       "...                    ...           ...    ...               ...  \n",
       "5097166  ['Action', 'RPG']          2009  19.99  Gearbox Software  \n",
       "5097637  ['Action', 'RPG']          2009  19.99  Gearbox Software  \n",
       "5098152  ['Action', 'RPG']          2009  19.99  Gearbox Software  \n",
       "5098870  ['Action', 'RPG']          2009  19.99  Gearbox Software  \n",
       "5099027  ['Action', 'RPG']          2009  19.99  Gearbox Software  \n",
       "\n",
       "[25502 rows x 11 columns]"
      ]
     },
     "execution_count": 128,
     "metadata": {},
     "output_type": "execute_result"
    }
   ],
   "source": [
    "# mostrar el developer Gearbox Software \n",
    "df_final[df_final['developer'] == 'Gearbox Software']"
   ]
  },
  {
   "cell_type": "code",
   "execution_count": 129,
   "metadata": {},
   "outputs": [
    {
     "data": {
      "text/plain": [
       "sentiment_analysis\n",
       "2    3234465\n",
       "1    1857231\n",
       "0       8578\n",
       "Name: count, dtype: int64"
      ]
     },
     "execution_count": 129,
     "metadata": {},
     "output_type": "execute_result"
    }
   ],
   "source": [
    "# Contar la cantidad de cada valor en la columna 'review'\n",
    "df_final['sentiment_analysis'].value_counts()"
   ]
  },
  {
   "cell_type": "code",
   "execution_count": 130,
   "metadata": {},
   "outputs": [
    {
     "name": "stdout",
     "output_type": "stream",
     "text": [
      "<class 'pandas.core.frame.DataFrame'>\n",
      "RangeIndex: 5100274 entries, 0 to 5100273\n",
      "Data columns (total 11 columns):\n",
      " #   Column              Dtype  \n",
      "---  ------              -----  \n",
      " 0   user_id             object \n",
      " 1   item_id             int64  \n",
      " 2   item_name           object \n",
      " 3   playtime_forever    int64  \n",
      " 4   recommend           bool   \n",
      " 5   year                int64  \n",
      " 6   sentiment_analysis  int64  \n",
      " 7   genres              object \n",
      " 8   release_date        int64  \n",
      " 9   price               float64\n",
      " 10  developer           object \n",
      "dtypes: bool(1), float64(1), int64(5), object(4)\n",
      "memory usage: 394.0+ MB\n"
     ]
    }
   ],
   "source": [
    "df_final.info()"
   ]
  }
 ],
 "metadata": {
  "kernelspec": {
   "display_name": "Python 3",
   "language": "python",
   "name": "python3"
  },
  "language_info": {
   "codemirror_mode": {
    "name": "ipython",
    "version": 3
   },
   "file_extension": ".py",
   "mimetype": "text/x-python",
   "name": "python",
   "nbconvert_exporter": "python",
   "pygments_lexer": "ipython3",
   "version": "3.11.4"
  }
 },
 "nbformat": 4,
 "nbformat_minor": 2
}
