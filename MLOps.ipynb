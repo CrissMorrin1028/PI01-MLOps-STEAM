{
 "cells": [
  {
   "cell_type": "markdown",
   "metadata": {},
   "source": [
    "### Modelo **user-items**"
   ]
  },
  {
   "cell_type": "code",
   "execution_count": 6,
   "metadata": {},
   "outputs": [],
   "source": [
    "import pandas as pd\n",
    "import pyarrow.parquet as pq\n",
    "from scipy.sparse import csr_matrix\n",
    "from sklearn.metrics.pairwise import cosine_similarity\n",
    "from surprise import Reader, Dataset, SVD\n",
    "from surprise.model_selection import train_test_split, GridSearchCV\n",
    "from surprise import Dataset, Reader, SVD \n",
    "import numpy as np\n",
    "import pandas as pd\n",
    "from joblib import dump"
   ]
  },
  {
   "cell_type": "code",
   "execution_count": 14,
   "metadata": {},
   "outputs": [],
   "source": [
    "df_modelo = pd.read_parquet('Dict\\df_final.parquet')"
   ]
  },
  {
   "cell_type": "code",
   "execution_count": 12,
   "metadata": {},
   "outputs": [
    {
     "data": {
      "text/plain": [
       "user_id               510027\n",
       "item_id               510027\n",
       "item_name             510027\n",
       "playtime_forever      510027\n",
       "recommend             510027\n",
       "year                  510027\n",
       "sentiment_analysis    510027\n",
       "genres                510027\n",
       "release_date          510027\n",
       "price                 510027\n",
       "developer             510027\n",
       "rating                510027\n",
       "dtype: int64"
      ]
     },
     "execution_count": 12,
     "metadata": {},
     "output_type": "execute_result"
    }
   ],
   "source": [
    "df_modelo.count()"
   ]
  },
  {
   "cell_type": "code",
   "execution_count": 5,
   "metadata": {},
   "outputs": [
    {
     "name": "stderr",
     "output_type": "stream",
     "text": [
      "C:\\Users\\57301\\AppData\\Local\\Temp\\ipykernel_8540\\3933399594.py:9: FutureWarning: Downcasting behavior in `replace` is deprecated and will be removed in a future version. To retain the old behavior, explicitly call `result.infer_objects(copy=False)`. To opt-in to the future behavior, set `pd.set_option('future.no_silent_downcasting', True)`\n",
      "  df_modelo['recommend'] = df_modelo['recommend'].replace({True: 1, False: 0})\n"
     ]
    },
    {
     "data": {
      "text/plain": [
       "['user_item_model.joblib']"
      ]
     },
     "execution_count": 5,
     "metadata": {},
     "output_type": "execute_result"
    }
   ],
   "source": [
    "# Tomar una muestra del 10% de los datos\n",
    "df_modelo = df_modelo.sample(frac=0.1, random_state=42)\n",
    "\n",
    "# Reemplazar los valores de la columna 'recommend'\n",
    "df_modelo['recommend'] = df_modelo['recommend'].replace({True: 1, False: 0})\n",
    "\n",
    "# Crear la columna 'rating'\n",
    "df_modelo['rating'] = 0\n",
    "df_modelo.loc[(df_modelo['sentiment_analysis'] == 2) & (df_modelo['recommend'] == 1), 'rating'] = 5\n",
    "df_modelo.loc[(df_modelo['sentiment_analysis'] == 2) & (df_modelo['recommend'] == 0), 'rating'] = 4\n",
    "df_modelo.loc[(df_modelo['sentiment_analysis'] == 1) & (df_modelo['recommend'] == 1), 'rating'] = 3\n",
    "df_modelo.loc[(df_modelo['sentiment_analysis'] == 1) & (df_modelo['recommend'] == 0), 'rating'] = 2\n",
    "df_modelo.loc[(df_modelo['sentiment_analysis'] == 0) & (df_modelo['recommend'] == 1), 'rating'] = 1\n",
    "\n",
    "# Guardar el DataFrame en un nuevo archivo .parquet\n",
    "df_modelo.to_parquet('user_item_modelo.parquet')\n",
    "\n",
    "# Cargar los datos del archivo .parquet\n",
    "new_df = pd.read_parquet('user_item_modelo.parquet')\n",
    "\n",
    "# Adaptar rating_scale a la escala de datos\n",
    "reader = Reader(rating_scale=(0, 5))\n",
    "\n",
    "# Cargar los datos en un objeto Dataset de Surprise\n",
    "data = Dataset.load_from_df(new_df[['user_id', 'item_name', 'rating']], reader)\n",
    "\n",
    "# Dividir el conjunto de datos en entrenamiento y prueba\n",
    "trainset, testset = train_test_split(data, test_size=0.2, random_state=42)\n",
    "\n",
    "# Optimizar los hiperparámetros con GridSearchCV\n",
    "param_grid = {'n_factors': [5, 50, 100], 'n_epochs': [5, 10, 20], 'lr_all': [0.001, 0.002, 0.005], 'reg_all': [0.002, 0.02, 0.2]}\n",
    "gs = GridSearchCV(SVD, param_grid, measures=['rmse'], cv=5, n_jobs=-1)\n",
    "gs.fit(data)\n",
    "\n",
    "# Entrenar el modelo SVD con los hiperparámetros optimizados\n",
    "model = SVD(**gs.best_params['rmse'])\n",
    "model.fit(trainset)\n",
    "\n",
    "# Guardar el modelo en un archivo joblib\n",
    "dump(model, 'user_item_model.joblib')"
   ]
  },
  {
   "cell_type": "code",
   "execution_count": 28,
   "metadata": {},
   "outputs": [],
   "source": [
    "from joblib import load\n",
    "\n",
    "# cargar el modelo joblib\n",
    "modelo = load('user_item_model.joblib')"
   ]
  },
  {
   "cell_type": "code",
   "execution_count": 31,
   "metadata": {},
   "outputs": [],
   "source": [
    "# SISTEMA DE RECOMENDACIÓN - USER-ITEM\n",
    "def recomendacion_usuario(user_id):\n",
    "    \"\"\"\n",
    "    Sistema de recomendación user-item.\n",
    "\n",
    "    Ingresando el ID de un usuario, se devuelve una lista con 5 juegos recomendados para dicho usuario.\n",
    "\n",
    "    Args:\n",
    "    - user_id (str): El ID del usuario para el cual se desean obtener recomendaciones.\n",
    "\n",
    "    Returns:\n",
    "    - dict: Un diccionario que contiene una lista de 5 juegos recomendados para el usuario ingresado.\n",
    "      El diccionario tiene el formato {\"Juegos recomendados para el usuario\": user_id,\n",
    "      'Juego 1': 'Nombre1', 'Juego 2': 'Nombre2', 'Juego 3': 'Nombre3', 'Juego 4': 'Nombre4', 'Juego 5': 'Nombre5'}.\n",
    "\n",
    "    Raises:\n",
    "    - Si el DataFrame está vacío, devuelve un mensaje de error.\n",
    "    - Si el user_id no existe en el DataFrame, devuelve un mensaje de error.\n",
    "    \"\"\"\n",
    "    # # Cargar el modelo del archivo .pkl\n",
    "    # with open('user_item_model.pkl', 'rb') as archivo:\n",
    "    #     modelo = pickle.load(archivo)\n",
    "\n",
    "    # Cargar los datos del archivo .parquet\n",
    "    new_df = pd.read_parquet('user_item_modelo.parquet')\n",
    "\n",
    "    # cargar el modelo joblib\n",
    "    modelo = load('user_item_model.joblib')\n",
    "\n",
    "    # Si el dataframe está vacío, devolver un mensaje de error\n",
    "    if new_df.empty:\n",
    "        return {\n",
    "        \"detail\": [\n",
    "            {\n",
    "                \"loc\": [\"string\", 0],\n",
    "                \"msg\": \"El DataFrame está vacío\",\n",
    "                \"type\": \"value_error\"\n",
    "            }\n",
    "        ]\n",
    "    }\n",
    "\n",
    "    if user_id not in new_df['user_id'].unique():\n",
    "        return {\n",
    "        \"detail\": [\n",
    "            {\n",
    "                \"loc\": [\"string\", 0],\n",
    "                \"msg\": f\"El usuario {user_id} no existe.\",\n",
    "                \"type\": \"value_error\"\n",
    "            }\n",
    "        ]\n",
    "    }\n",
    "\n",
    "    juegos_valorados = new_df[new_df['user_id'] == user_id]['item_name'].unique()\n",
    "    todos_los_juegos = new_df['item_name'].unique()\n",
    "    juegos_no_valorados = list(set(todos_los_juegos) - set(juegos_valorados))\n",
    "    predicciones = [modelo.predict(user_id, juego) for juego in juegos_no_valorados]\n",
    "    recomendaciones = sorted(predicciones, key=lambda x: x.est, reverse=True)[:5]\n",
    "    juegos_recomendados = [recomendacion.iid for recomendacion in recomendaciones]\n",
    "    recomendaciones_dict = {\"Juegos recomendados para el usuario\": user_id, 'Juego 1': juegos_recomendados[0], 'Juego 2': juegos_recomendados[1], 'Juego 3': juegos_recomendados[2], 'Juego 4': juegos_recomendados[3], 'Juego 5': juegos_recomendados[4]}\n",
    "    return recomendaciones_dict"
   ]
  },
  {
   "cell_type": "code",
   "execution_count": 44,
   "metadata": {},
   "outputs": [
    {
     "data": {
      "text/plain": [
       "{'Juegos recomendados para el usuario': 'tru_mu_',\n",
       " 'Juego 1': 'Deus Ex: Mankind Dividedâ\\x84¢',\n",
       " 'Juego 2': 'Project Zomboid',\n",
       " 'Juego 3': \"Tom Clancy's The Division\",\n",
       " 'Juego 4': 'Magic 2014 ',\n",
       " 'Juego 5': 'Youtubers Life'}"
      ]
     },
     "execution_count": 44,
     "metadata": {},
     "output_type": "execute_result"
    }
   ],
   "source": [
    "# llamar a la funcion\n",
    "recomendacion_usuario('tru_mu_')"
   ]
  },
  {
   "cell_type": "markdown",
   "metadata": {},
   "source": [
    "### Modelo de recomendación **item-item**"
   ]
  },
  {
   "cell_type": "markdown",
   "metadata": {},
   "source": [
    "Aplicamos similitud del coseno\n",
    "\n",
    "![similitud coseno](img\\similitud_coseno.PNG)"
   ]
  },
  {
   "cell_type": "code",
   "execution_count": null,
   "metadata": {},
   "outputs": [],
   "source": [
    "from sklearn.preprocessing import MultiLabelBinarizer\n",
    "from sklearn.metrics.pairwise import cosine_similarity\n",
    "from joblib import dump\n",
    "import ast\n",
    "\n",
    "# Convertir la columna de géneros a una lista de géneros\n",
    "# df_modelo['genres'] = df_modelo['genres'].apply(ast.literal_eval)\n",
    "\n",
    "# Agrupar por item_id y combinar los géneros en una lista única\n",
    "df_grouped = df_modelo.groupby('item_id')['genres'].sum().reset_index()\n",
    "\n",
    "# Crear el codificador One-Hot\n",
    "mlb = MultiLabelBinarizer()\n",
    "\n",
    "# Aplicar el codificador One-Hot a la columna de géneros\n",
    "one_hot_genres = mlb.fit_transform(df_grouped['genres'])\n",
    "\n",
    "# Crear un DataFrame con las columnas codificadas\n",
    "df_genres = pd.DataFrame(one_hot_genres, columns=mlb.classes_, index=df_grouped['item_id'])\n",
    "\n",
    "# Calcular la similitud del coseno entre los ítems\n",
    "item_similarity = cosine_similarity(df_genres)\n",
    "\n",
    "# Convertir el resultado en un DataFrame para facilitar su manejo\n",
    "item_similarity_df = pd.DataFrame(item_similarity, index=df_genres.index, columns=df_genres.index)\n",
    "\n",
    "# Guardar el DataFrame en un archivo parquet\n",
    "dump(item_similarity_df, \"item_similarity_df.joblib\")"
   ]
  },
  {
   "cell_type": "code",
   "execution_count": null,
   "metadata": {},
   "outputs": [],
   "source": [
    "from joblib import load\n",
    "# SISTEMA DE RECOMENDACIÓN - ITEM-ITEM\n",
    "def recomendacion_juego(item_id):\n",
    "    \"\"\"\n",
    "    Sistema de recomendación item-item.\n",
    "\n",
    "    Ingresando el ID de un producto, se devuelve una lista con 5 juegos recomendados similares al ingresado.\n",
    "\n",
    "    Args:\n",
    "    - item_id: El ID del producto para el cual se desean obtener recomendaciones.\n",
    "\n",
    "    Returns:\n",
    "    - dict: Un diccionario que contiene una lista de 5 juegos recomendados similares al ingresado.\n",
    "      El diccionario tiene el formato {\"Juegos similares al ID ingresado\": {ID1: 'Nombre1', ID2: 'Nombre2', ...}}.\n",
    "\n",
    "    Raises:\n",
    "    - Si el DataFrame está vacío, devuelve un mensaje de error.\n",
    "    - Si el item_id no existe en el DataFrame, devuelve un mensaje de error.\n",
    "    - Si ocurre un error al cargar el archivo de similitud, intenta calcular la similitud del coseno\n",
    "      entre los productos y proporciona recomendaciones basadas en eso.\n",
    "    \"\"\"\n",
    "    # Leer el archivo parquet en un DataFrame\n",
    "    data = df_modelo\n",
    "\n",
    "    try:\n",
    "        # Cargar la matriz de similitud de items_similarity\n",
    "        item_similarity_df = load('/content/items_similar.joblib')\n",
    "\n",
    "        # mensaje de test para verificar que se cargó la matriz precalculada\n",
    "        print(\"Se cargó la matriz precalculada.\")\n",
    "\n",
    "    except Exception as e:\n",
    "        print(f\"Ocurrió un error al cargar el archivo: {e}\")\n",
    "\n",
    "    # Si el dataframe está vacío, devolver un mensaje de error\n",
    "    if data.empty:\n",
    "        return {\n",
    "            \"detail\": [\n",
    "                {\n",
    "                    \"loc\": [\"string\", 0],\n",
    "                    \"msg\": \"El DataFrame está vacío\",\n",
    "                    \"type\": \"value_error\"\n",
    "                }\n",
    "            ]\n",
    "        }\n",
    "\n",
    "    # Si el item_id no existe en el DataFrame, devolver un mensaje de error\n",
    "    if item_id not in data['item_id'].values:\n",
    "        return {\n",
    "            \"detail\": [\n",
    "                {\n",
    "                    \"loc\": [\"string\", 0],\n",
    "                    \"msg\": \"El item_id proporcionado no existe\",\n",
    "                    \"type\": \"value_error\"\n",
    "                }\n",
    "            ]\n",
    "        }\n",
    "\n",
    "    # Obtener los juegos similares al juego dado\n",
    "    similar_games = item_similarity_df[item_id].sort_values(ascending=False)\n",
    "\n",
    "    # Obtener los 5 juegos más similares\n",
    "    similar_games_ids = similar_games.head(6).index.tolist()[1:]  # Excluimos el primer juego porque es el mismo juego\n",
    "\n",
    "    # Crear un diccionario con los ids y los nombres de los juegos\n",
    "    recommended_games = {game_id: data[data['item_id'] == game_id]['item_name'].iloc[0] for game_id in similar_games_ids}\n",
    "\n",
    "    return {\"Juegos similares al id ingresado\": recommended_games}"
   ]
  },
  {
   "cell_type": "code",
   "execution_count": null,
   "metadata": {},
   "outputs": [],
   "source": [
    "# llamado a la función\n",
    "recomendacion_juego(333930)"
   ]
  }
 ],
 "metadata": {
  "kernelspec": {
   "display_name": "Python 3",
   "language": "python",
   "name": "python3"
  },
  "language_info": {
   "codemirror_mode": {
    "name": "ipython",
    "version": 3
   },
   "file_extension": ".py",
   "mimetype": "text/x-python",
   "name": "python",
   "nbconvert_exporter": "python",
   "pygments_lexer": "ipython3",
   "version": "3.11.4"
  }
 },
 "nbformat": 4,
 "nbformat_minor": 2
}
